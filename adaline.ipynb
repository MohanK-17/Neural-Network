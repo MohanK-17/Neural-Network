{
 "cells": [
  {
   "cell_type": "code",
   "execution_count": null,
   "metadata": {},
   "outputs": [],
   "source": [
    "import numpy as np\n",
    "import pandas as pd\n",
    "\n",
    "# Inputs and targets\n",
    "X = np.array([[1, 1], [1, -1], [-1, 1], [-1, -1]])\n",
    "t = np.array([1, 1, 1, -1])\n",
    "\n",
    "# Parameters\n",
    "lr = 0.1  # Learning rate\n",
    "least_squared_error = 2  # Stop condition for total error\n",
    "w = np.array([0.1, 0.1])  # Initial weights\n",
    "b = 0.1  # Initial bias\n",
    "\n",
    "# List to store the data for each row of the table\n",
    "data = []\n",
    "epoch = 0  # Initialize epoch counter"
   ]
  },
  {
   "cell_type": "code",
   "execution_count": 11,
   "metadata": {},
   "outputs": [
    {
     "name": "stdout",
     "output_type": "stream",
     "text": [
      "Epoch 1 - Total Error: 3.02108749\n",
      "Epoch 2 - Total Error: 1.9384466295901872\n"
     ]
    }
   ],
   "source": [
    "# Training loop - Run until total error is less than or equal to the least squared error\n",
    "while True:\n",
    "    total_error = 0  # Reset total error for each epoch\n",
    "    epoch_data = []  # Temporary list to store data for each epoch\n",
    "    \n",
    "    # Process each input sample\n",
    "    for i in range(len(X)):\n",
    "        x1, x2 = X[i]  # Input values\n",
    "        target = t[i]  # Target value\n",
    "\n",
    "        # Calculate y_in (net input)\n",
    "        y_in = x1 * w[0] + x2 * w[1] + b\n",
    "        \n",
    "        # Error calculation\n",
    "        error = target - y_in\n",
    "\n",
    "        # Weight updates\n",
    "        delta_w1 = lr * error * x1\n",
    "        delta_w2 = lr * error * x2\n",
    "        delta_b = lr * error\n",
    "\n",
    "        # Apply the updates to weights and bias\n",
    "        w[0] += delta_w1\n",
    "        w[1] += delta_w2\n",
    "        b += delta_b\n",
    "\n",
    "        # Calculate squared error\n",
    "        squared_error = error ** 2\n",
    "        total_error += squared_error  # Add to total error for the epoch\n",
    "\n",
    "        # Append the current values to the epoch_data list\n",
    "        epoch_data.append([\n",
    "            x1, x2, target, round(y_in, 4), round(error, 4), \n",
    "            round(delta_w1, 4), round(delta_w2, 4), round(delta_b, 4), \n",
    "            round(w[0], 4), round(w[1], 4), round(b, 4), round(squared_error, 4)\n",
    "        ])\n",
    "    \n",
    "    # Store each epoch's data in the main data list and display the total error\n",
    "    print(f\"Epoch {epoch + 1} - Total Error: {total_error}\")\n",
    "    data.extend(epoch_data)  # Add epoch's data to main list\n",
    "    \n",
    "    # Check if the stopping condition is met\n",
    "    if total_error <= least_squared_error:\n",
    "        break\n",
    "    \n",
    "    epoch += 1  # Increment epoch counter\n"
   ]
  },
  {
   "cell_type": "code",
   "execution_count": 12,
   "metadata": {},
   "outputs": [
    {
     "name": "stdout",
     "output_type": "stream",
     "text": [
      "\n",
      "Final DataFrame:\n",
      "   x1  x2  t    y_in  (t - y_in)     Δw1     Δw2      Δb      w1      w2  \\\n",
      "0   1   1  1  0.3000      0.7000  0.0700  0.0700  0.0700  0.1700  0.1700   \n",
      "1   1  -1  1  0.1700      0.8300  0.0830 -0.0830  0.0830  0.2530  0.0870   \n",
      "2  -1   1  1  0.0870      0.9130 -0.0913  0.0913  0.0913  0.1617  0.1783   \n",
      "3  -1  -1 -1  0.0043     -1.0043  0.1004  0.1004 -0.1004  0.2621  0.2787   \n",
      "4   1   1  1  0.7847      0.2153  0.0215  0.0215  0.0215  0.2837  0.3003   \n",
      "5   1  -1  1  0.2488      0.7512  0.0751 -0.0751  0.0751  0.3588  0.2251   \n",
      "6  -1   1  1  0.2069      0.7931 -0.0793  0.0793  0.0793  0.2795  0.3044   \n",
      "7  -1  -1 -1 -0.1641     -0.8359  0.0836  0.0836 -0.0836  0.3631  0.3880   \n",
      "\n",
      "        b  (t - y_in)^2  \n",
      "0  0.1700        0.4900  \n",
      "1  0.2530        0.6889  \n",
      "2  0.3443        0.8336  \n",
      "3  0.2439        1.0086  \n",
      "4  0.2654        0.0463  \n",
      "5  0.3405        0.5643  \n",
      "6  0.4198        0.6290  \n",
      "7  0.3362        0.6988  \n"
     ]
    }
   ],
   "source": [
    "# Define column names\n",
    "columns = ['x1', 'x2', 't', 'y_in', '(t - y_in)', 'Δw1', 'Δw2', 'Δb', 'w1', 'w2', 'b', '(t - y_in)^2']\n",
    "\n",
    "# Create DataFrame with the collected data\n",
    "df = pd.DataFrame(data, columns=columns)\n",
    "\n",
    "# Display the DataFrame\n",
    "print(\"\\nFinal DataFrame:\")\n",
    "print(df)"
   ]
  },
  {
   "cell_type": "code",
   "execution_count": null,
   "metadata": {},
   "outputs": [],
   "source": []
  }
 ],
 "metadata": {
  "kernelspec": {
   "display_name": "Python 3",
   "language": "python",
   "name": "python3"
  },
  "language_info": {
   "codemirror_mode": {
    "name": "ipython",
    "version": 3
   },
   "file_extension": ".py",
   "mimetype": "text/x-python",
   "name": "python",
   "nbconvert_exporter": "python",
   "pygments_lexer": "ipython3",
   "version": "3.11.9"
  }
 },
 "nbformat": 4,
 "nbformat_minor": 2
}
